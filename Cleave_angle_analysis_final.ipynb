{
 "cells": [
  {
   "cell_type": "code",
   "execution_count": 135,
   "id": "63414f0b",
   "metadata": {},
   "outputs": [
    {
     "data": {
      "text/plain": [
       "28"
      ]
     },
     "execution_count": 135,
     "metadata": {},
     "output_type": "execute_result"
    },
    {
     "data": {
      "image/png": "[encoded data removed]",
      "text/plain": [
       "<Figure size 432x288 with 1 Axes>"
      ]
     },
     "metadata": {
      "needs_background": "light"
     },
     "output_type": "display_data"
    }
   ],
   "source": [
    "import matplotlib.pyplot as plt\n",
    "import numpy as np\n",
    "import scipy.io\n",
    "import sklearn\n",
    "import math\n",
    "from sklearn.linear_model import LinearRegression\n",
    "import os\n",
    "\n",
    "n=6 #half the number of required cross sections (variable)\n",
    "L=500 #size of data grid (Fixed)\n",
    "c=50 #number of data points to clip for very steep fibers that are not covered completely by interference (variable)\n",
    "theta = range(-45,45,90//(n)) #angle values determined by required number of cross sections\n",
    "x_calc = np.zeros((L,n)) #initialise arrays\n",
    "Y_raw = np.zeros((L,n))\n",
    "Y_raw_inv = np.zeros((L,n))\n",
    "Y_raw_rot = np.zeros((L,n))\n",
    "clip = np.zeros((6))\n",
    "surface = np.empty([501,501])\n",
    "angles = []\n",
    "\n",
    "# traverse whole directory\n",
    "for root, dirs, files in os.walk(r'W:\\Data\\WG3\\Cleaving Face\\250'):\n",
    "    # select file name\n",
    "    for file in files:\n",
    "        # get all the cross section files (.mat) and run code\n",
    "        if file.endswith('.mat'):\n",
    "            mat = scipy.io.loadmat(os.path.join(root, file)) #Load the data\n",
    "            sorted(mat.keys()) #identify columns of data in the .mat file\n",
    "            data = mat['Surface'] #extract the values for the surface height\n",
    "            surface[:,:] = data\n",
    "            for k in range(0,n): #k values determine each cross section form the angles in theta\n",
    "                for i in range(0,L):\n",
    "                    j = 250+((250-i)*math.tan(theta[k]*(math.pi/180))) #determine the values of x for each value of y depending on the angle of cross section\n",
    "                    Y_raw[i,k] = surface[i,round(j)] #extract the surface height values for the cross section\n",
    "                    Y_raw_inv[i,k] = surface[round(j),(L-i)] #extract the surface height values for the cross section\n",
    "                Y_raw_rot[:,k] = np.flip(Y_raw_inv[:,k]) #flip data to preserve gradient direction\n",
    "                clip[k] = round(np.count_nonzero(np.isnan(Y_raw[:,k]))/2) #count number of NAN values\n",
    "                Y_raw[0:c+int(clip[k]),k] = np.NAN #clip data by amount depending on the angle (diagonal has more NAN than perpendicular)\n",
    "                Y_raw[L-(c+int(clip[k])):L,k] = np.NAN\n",
    "                Y_raw_rot[0:c+int(clip[k]),k] = np.NAN\n",
    "                Y_raw_rot[L-(c+int(clip[k])):L,k] = np.NAN\n",
    "                x_calc[:,k] = np.arange(0,(L*0.000329)/math.cos(theta[k]*(math.pi/180)),(L*0.000329)/math.cos(theta[k]*(math.pi/180))/L) #calculate the x value in real terms\n",
    "            grad = []\n",
    "            for angle in range(0,n): #arrange data and add a linear fit\n",
    "                Y = Y_raw_rot[~np.isnan(Y_raw_rot[:,angle]),angle]\n",
    "                Y_fdata = Y.reshape(-1,1)\n",
    "                x_crop = np.arange(0,len(Y),1)\n",
    "                x_fdata = x_crop.reshape(-1,1)\n",
    "                regress = LinearRegression().fit(x_fdata*0.000329,Y_fdata)\n",
    "                grad.append((180/math.pi)*(math.atan(regress.coef_[0][0]))) #build list of angle values\n",
    "            for angle in range(0,n): #repeat for second set of cross sections\n",
    "                Y = Y_raw[~np.isnan(Y_raw[:,angle]),angle]\n",
    "                Y_fdata = Y.reshape(-1,1)\n",
    "                x_crop = np.arange(0,len(Y),1)\n",
    "                x_fdata = x_crop.reshape(-1,1)\n",
    "                regress = LinearRegression().fit(x_fdata*0.000329,Y_fdata)\n",
    "                grad.append((180/math.pi)*(math.atan(regress.coef_[0][0])))\n",
    "            res = [abs(ele) for ele in grad]\n",
    "            angles.append(max(res)) #take the maximum absolute angle and build a list for each file\n",
    "# An \"interface\" to matplotlib.axes.Axes.hist() method\n",
    "no, bins, patches = plt.hist(x=angles, bins='auto', color='#0504aa', alpha=0.7, rwidth=0.85)\n",
    "plt.grid(axis='y', alpha=0.75)\n",
    "plt.xlabel('Angle (deg)');\n",
    "plt.ylabel('Frequency');\n",
    "plt.title('Cleave Tension = 250');\n",
    "#plt.text(5, 5, r'$\\mu=15, b=3$')\n",
    "# Set a clean upper y-axis limit.\n",
    "#plt.ylim(ymax=np.ceil(no.max() / 10) * 8 if no.max() % 4 else maxfreq + 2);\n",
    "len(angles)"
   ]
  },
  {
   "cell_type": "code",
   "execution_count": null,
   "id": "1c07ab94",
   "metadata": {},
   "outputs": [],
   "source": []
  }
 ],
 "metadata": {
  "kernelspec": {
   "display_name": "Python 3 (ipykernel)",
   "language": "python",
   "name": "python3"
  },
  "language_info": {
   "codemirror_mode": {
    "name": "ipython",
    "version": 3
   },
   "file_extension": ".py",
   "mimetype": "text/x-python",
   "name": "python",
   "nbconvert_exporter": "python",
   "pygments_lexer": "ipython3",
   "version": "3.9.7"
  }
 },
 "nbformat": 4,
 "nbformat_minor": 5
}
